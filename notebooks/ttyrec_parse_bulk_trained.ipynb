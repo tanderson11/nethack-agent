{
 "cells": [
  {
   "cell_type": "markdown",
   "id": "1ddf199a",
   "metadata": {},
   "source": [
    "How I produced the replays with trained baselines:\n",
    "1. Clone trained baselines from https://gitlab.aicrowd.com/eric_hammy/neurips-2021-the-nethack-challenge/tree/submission-baseline-0.5B\n",
    "2. Make sure the model weights are properly downloaded (they're under LFS and are ~35MB each)\n",
    "3. Change line #8 in envs/wrappers.py to: `return aicrowd_gym.make(\"NetHackChallenge-v0\", savedir='')`\n",
    "4. Change NUM_EPISODES in line #38 of submission_config.py to however many you need.\n",
    "5. The baselines were cloned to `/media/karolis/SSD-Ubuntu/NLE/baselines-trained`, adjust PATHs below accordingly."
   ]
  },
  {
   "cell_type": "code",
   "execution_count": null,
   "id": "778a741c",
   "metadata": {},
   "outputs": [],
   "source": [
    "import bz2\n",
    "import os\n",
    "import re\n",
    "\n",
    "import pandas as pd\n",
    "import pyarrow as pa\n",
    "import pyarrow.parquet as pq\n",
    "\n",
    "from tqdm.notebook import tqdm"
   ]
  },
  {
   "cell_type": "code",
   "execution_count": null,
   "id": "e458d01e",
   "metadata": {},
   "outputs": [],
   "source": [
    "PATH = '/Users/thayer/neurips-2021-nethack-starter-kit/nle_data/20210712-193109_alk1uhur'\n",
    "PATH_OUT = '/Users/thayer/neurips-2021-nethack-starter-kit/parsed/parsed.parquet'"
   ]
  },
  {
   "cell_type": "code",
   "execution_count": null,
   "id": "d58b4060",
   "metadata": {},
   "outputs": [],
   "source": [
    "# problem if the lines get cut off onto a new line\n",
    "score_line_pattern = re.compile(\"You ((?:were |turned to )?([a-zA-Z]+)) in ([a-zA-Z ]+) on dungeon level ([0-9]+) with ([0-9]+) points\")\n",
    "gold_moves_line_pattern = re.compile(\"and ([0-9]+) pieces of gold, after ([0-9]+) moves\")\n",
    "exp_level_line_pattern = re.compile(\"You were level ([0-9]+) with a maximum of ([0-9]+) hit points when you\")\n",
    "vanquished_line_pattern = re.compile(\"([0-9]+) creatures vanquished.\")\n",
    "role_pattern = re.compile('role: ([a-zA-Z]+)')\n",
    "race_pattern = re.compile('race: ([a-zA-Z]+)')\n",
    "gender_pattern = re.compile('gender: ([a-zA-Z]+)')\n",
    "alignment_pattern = re.compile('alignment: ([a-zA-Z]+)')\n",
    "killer_pattern = re.compile('killed by (.+) [0-9]{4}') # looking for 4 digit date to end\n",
    "headstone_pattern = re.compile('\\/     PEACE([\\s\\S]+)\\*  \\*  \\*')\n",
    "spaces_pattern = re.compile('\\s\\s+')\n",
    "coda_pattern1 = re.compile(b'Final Attributes:')\n",
    "coda_pattern2 = re.compile(b'Final Status:')\n",
    "status_match = re.compile('Final resting place for.+, while ([a-zA-Z ]+).')\n",
    "#re.search('Final resting place for.+, while ([a-zA-Z ]+).',\n",
    "\n",
    "def ttyrec_parse(f):\n",
    "    d = {}\n",
    "    d['path'] = path\n",
    "    d['frames'] = 0\n",
    "    d['kills'] = 0\n",
    "    \n",
    "    preamble_flag = True\n",
    "    coda_flag = False\n",
    "    for raw_line in f:\n",
    "        d['frames'] += 1\n",
    "        \n",
    "        \n",
    "        if preamble_flag: # our first frame contains necessary information\n",
    "            line = str(raw_line)\n",
    "            role_match = re.search(role_pattern, line)\n",
    "            if role_match:\n",
    "                role = role_match[1]\n",
    "                if role == \"Priest\" or role == \"Priestess\":\n",
    "                    d['role'] = \"Priest/Priestess\"\n",
    "                elif role == \"Cavewoman\" or role == \"Caveman\":\n",
    "                    d['role'] = \"Caveperson\"\n",
    "                else:\n",
    "                    d['role'] = role\n",
    "\n",
    "            race_match = re.search(race_pattern, line)\n",
    "            if race_match:\n",
    "                d['race'] = race_match[1]\n",
    "\n",
    "            gender_match = re.search(gender_pattern, line)\n",
    "            if gender_match:\n",
    "                d['gender'] = gender_match[1]\n",
    "\n",
    "            alignment_match = re.search(alignment_pattern, line)\n",
    "            if alignment_match:\n",
    "                d['alignment'] = alignment_match[1]\n",
    "            \n",
    "            if role_match:\n",
    "                preamble_flag = False\n",
    "        \n",
    "        \n",
    "        coda_match1 = re.search(coda_pattern1, raw_line)\n",
    "        coda_match2 = re.search(coda_pattern2, raw_line)\n",
    "        if coda_match1 and coda_match2: # look for a known quantity that only appears after death to\n",
    "            #(1) avoid bad matches from weird named items in game\n",
    "            #(2) speed up parsing by only looking for matches in the tail of the file\n",
    "            coda_flag = True\n",
    "            \n",
    "        if coda_flag:\n",
    "            line = str(raw_line)\n",
    "            score_match = re.search(score_line_pattern, line)\n",
    "\n",
    "            if score_match:\n",
    "                print(score_match)\n",
    "                d['death_type'] = str(score_match[2])\n",
    "                d['branch'] = str(score_match[3])\n",
    "                d['depth'] = int(score_match[4])\n",
    "                d['score'] = int(score_match[5])\n",
    "\n",
    "                # this only happens in the same frame with the score line\n",
    "                #there are just nasty unprintables separating them\n",
    "                gold_moves_match = re.search(gold_moves_line_pattern, line)\n",
    "\n",
    "                if gold_moves_match:\n",
    "                    d['gold'] = int(gold_moves_match[1])\n",
    "                    d['steps'] = int(gold_moves_match[2])\n",
    "                else:\n",
    "                    #print(raw_line)\n",
    "                    pass\n",
    "                    #assert False, \"Expected gold+moves line on same frame as score line.\"\n",
    "\n",
    "                exp_level_line_match = re.search(exp_level_line_pattern, line)\n",
    "\n",
    "                if exp_level_line_match:\n",
    "                    d['explevel'] = int(exp_level_line_match[1])\n",
    "                    d['maxhp'] = int(exp_level_line_match[2])\n",
    "                else:\n",
    "                    #print(raw_line)\n",
    "                    pass\n",
    "                    #assert False, \"Expected exp level line on same frame as score line.\"\n",
    "\n",
    "                death_status_match = re.search(status_match, line)\n",
    "                if death_status_match:\n",
    "                    d['status'] = death_status_match[1]\n",
    "                    print(\"status found\")\n",
    "                    \n",
    "            if \"pieces of gold, after\" in line and not score_match:\n",
    "                import pdb; pdb.set_trace() # looks like we're on the score screen, but we failed to match score\n",
    "\n",
    "            if \"Vanquished creatures:\" in line:\n",
    "                d['kills'] = 1  # when only one line in kills, it doesn't show total separately\n",
    "                # 0 kills and it doesn't show at all, hence our default of 0\n",
    "\n",
    "            vanquished_match = re.search(vanquished_line_pattern, line) # but if many kills, we'll find a match\n",
    "            if vanquished_match:\n",
    "                d['kills'] = int(vanquished_match[1])\n",
    "\n",
    "            headstone_match = re.search(headstone_pattern, line)\n",
    "            if headstone_match:\n",
    "                cleaner_headstone = re.sub(spaces_pattern, ' ', re.sub(r'[^\\x00-\\x7F]|\\s|\\\\r|\\\\x1b|\\[B|\\[K|\\|', ' ', headstone_match[1]))\n",
    "                killer_match = re.search(killer_pattern, cleaner_headstone)\n",
    "                if killer_match:\n",
    "                    d['killer'] = killer_match[1]\n",
    "                    #import pdb; pdb.set_trace()\n",
    "                else:\n",
    "                    #import pdb; pdb.set_trace()\n",
    "                    pass\n",
    "    return d"
   ]
  },
  {
   "cell_type": "code",
   "execution_count": null,
   "id": "5727d01b",
   "metadata": {
    "scrolled": true
   },
   "outputs": [],
   "source": [
    "#dirs = os.listdir(PATH)\n",
    "\n",
    "#with open(PATH_OUT, 'w') as f:\n",
    "#    f.write(';'.join(FIELDS) + '\\n')\n",
    "\n",
    "#for dr in tqdm(dirs):\n",
    "#    files = os.listdir(os.path.join(PATH, dr))\n",
    "#    files.sort(key=lambda x: int(x.split('.')[2]))\n",
    "#    for file in tqdm(files):\n",
    "#        d = ttyrec_parse(os.path.join(PATH, dr, file))\n",
    "#        with open(PATH_OUT, 'a') as f:\n",
    "#            f.write(';'.join(str(d[f]) for f in FIELDS) + '\\n')"
   ]
  },
  {
   "cell_type": "code",
   "execution_count": null,
   "id": "23ca6bb6",
   "metadata": {},
   "outputs": [],
   "source": [
    "dr = PATH\n",
    "os.chdir(os.path.join(PATH, dr))\n",
    "\n",
    "files = [f for f in os.listdir('.') if os.path.isfile(f)]\n",
    "rows = []\n",
    "\n",
    "for file in tqdm(files):\n",
    "    path = os.path.join(PATH, dr, file)\n",
    "    with bz2.BZ2File(path) as f:\n",
    "        rows.append(ttyrec_parse(f))\n",
    "        #if True: #path == 'bad_path':\n",
    "        #    for l in f:\n",
    "        #        print(l)\n",
    "        #    break"
   ]
  },
  {
   "cell_type": "code",
   "execution_count": null,
   "id": "78ffe448",
   "metadata": {},
   "outputs": [],
   "source": [
    "with open(PATH_OUT, 'wb') as f:\n",
    "    df = pd.DataFrame(rows)\n",
    "    table = pa.Table.from_pandas(df)\n",
    "    pq.write_table(table, f)"
   ]
  },
  {
   "cell_type": "code",
   "execution_count": null,
   "id": "957c3275",
   "metadata": {},
   "outputs": [],
   "source": [
    "df = pq.read_table(PATH_OUT).to_pandas()\n",
    "df"
   ]
  },
  {
   "cell_type": "markdown",
   "id": "2110bc81",
   "metadata": {},
   "source": [
    "bad = df[(df['death_type'] != 'died') & (df['death_type'] != 'starved')]"
   ]
  },
  {
   "cell_type": "code",
   "execution_count": null,
   "id": "ede3b529",
   "metadata": {},
   "outputs": [],
   "source": [
    "bad"
   ]
  },
  {
   "cell_type": "code",
   "execution_count": null,
   "id": "01eb42d0",
   "metadata": {},
   "outputs": [],
   "source": [
    "bad['path'].iloc[1]"
   ]
  },
  {
   "cell_type": "code",
   "execution_count": null,
   "id": "6a4885c0",
   "metadata": {},
   "outputs": [],
   "source": []
  }
 ],
 "metadata": {
  "kernelspec": {
   "display_name": "Python 3 (ipykernel)",
   "language": "python",
   "name": "python3"
  },
  "language_info": {
   "codemirror_mode": {
    "name": "ipython",
    "version": 3
   },
   "file_extension": ".py",
   "mimetype": "text/x-python",
   "name": "python",
   "nbconvert_exporter": "python",
   "pygments_lexer": "ipython3",
   "version": "3.9.4"
  }
 },
 "nbformat": 4,
 "nbformat_minor": 5
}
