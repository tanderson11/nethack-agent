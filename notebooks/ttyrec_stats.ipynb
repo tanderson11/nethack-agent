{
 "cells": [
  {
   "cell_type": "code",
   "execution_count": null,
   "id": "778a741c",
   "metadata": {},
   "outputs": [],
   "source": [
    "import os\n",
    "import pandas as pd\n",
    "import numpy as np\n",
    "import pyarrow.parquet as pq\n",
    "from tqdm.notebook import tqdm"
   ]
  },
  {
   "cell_type": "code",
   "execution_count": null,
   "id": "e458d01e",
   "metadata": {},
   "outputs": [],
   "source": [
    "PATH = '/Users/thayer/neurips-2021-nethack-starter-kit/parsed/parsed.parquet'\n",
    "\n",
    "pd.set_option('display.max_colwidth', None)\n",
    "pd.set_option('display.max_rows', None)"
   ]
  },
  {
   "cell_type": "code",
   "execution_count": null,
   "id": "228cf0df",
   "metadata": {},
   "outputs": [],
   "source": [
    "df = pq.read_table(PATH).to_pandas()"
   ]
  },
  {
   "cell_type": "code",
   "execution_count": null,
   "id": "ee7bb5db",
   "metadata": {},
   "outputs": [],
   "source": [
    "len(df)"
   ]
  },
  {
   "cell_type": "code",
   "execution_count": null,
   "id": "957c3275",
   "metadata": {},
   "outputs": [],
   "source": [
    "df.sort_values(\"score\", ascending=False)"
   ]
  },
  {
   "cell_type": "code",
   "execution_count": null,
   "id": "07ae1496",
   "metadata": {},
   "outputs": [],
   "source": [
    "df.groupby('status').count().sort_values('score', ascending=False)"
   ]
  },
  {
   "cell_type": "code",
   "execution_count": null,
   "id": "599c7c79",
   "metadata": {},
   "outputs": [],
   "source": [
    "df.groupby('role').mean().sort_values('score', ascending=False).round(2)"
   ]
  },
  {
   "cell_type": "code",
   "execution_count": null,
   "id": "0967a9bb",
   "metadata": {},
   "outputs": [],
   "source": [
    "df.groupby('alignment').mean().round(2)"
   ]
  },
  {
   "cell_type": "code",
   "execution_count": null,
   "id": "1e8f1879",
   "metadata": {},
   "outputs": [],
   "source": [
    "df.groupby('race').mean().round(2)"
   ]
  },
  {
   "cell_type": "code",
   "execution_count": null,
   "id": "170264ab",
   "metadata": {},
   "outputs": [],
   "source": [
    "df.groupby('death_type').count().sort_values('score', ascending=False)"
   ]
  },
  {
   "cell_type": "code",
   "execution_count": null,
   "id": "b3a4445c",
   "metadata": {},
   "outputs": [],
   "source": []
  }
 ],
 "metadata": {
  "kernelspec": {
   "display_name": "Python 3 (ipykernel)",
   "language": "python",
   "name": "python3"
  },
  "language_info": {
   "codemirror_mode": {
    "name": "ipython",
    "version": 3
   },
   "file_extension": ".py",
   "mimetype": "text/x-python",
   "name": "python",
   "nbconvert_exporter": "python",
   "pygments_lexer": "ipython3",
   "version": "3.9.4"
  }
 },
 "nbformat": 4,
 "nbformat_minor": 5
}
